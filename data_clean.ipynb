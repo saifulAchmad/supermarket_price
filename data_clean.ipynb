{
 "cells": [
  {
   "cell_type": "code",
   "execution_count": 1,
   "metadata": {},
   "outputs": [
    {
     "name": "stderr",
     "output_type": "stream",
     "text": [
      "C:\\Users\\WINDOWS 10\\AppData\\Local\\Temp\\ipykernel_21720\\2612480026.py:4: DtypeWarning: Columns (7) have mixed types. Specify dtype option on import or set low_memory=False.\n",
      "  dfASDA= pd.read_csv(\"data_source/All_Data_ASDA.csv\")\n"
     ]
    },
    {
     "name": "stdout",
     "output_type": "stream",
     "text": [
      "<class 'pandas.core.frame.DataFrame'>\n",
      "RangeIndex: 3273206 entries, 0 to 3273205\n",
      "Data columns (total 8 columns):\n",
      " #   Column            Dtype \n",
      "---  ------            ----- \n",
      " 0   supermarket       object\n",
      " 1   prices_(¬£)       object\n",
      " 2   prices_unit_(¬£)  object\n",
      " 3   unit              object\n",
      " 4   names             object\n",
      " 5   date              object\n",
      " 6   category          object\n",
      " 7   own_brand         object\n",
      "dtypes: object(8)\n",
      "memory usage: 199.8+ MB\n",
      "None\n"
     ]
    }
   ],
   "source": [
    "import pandas as pd\r\n",
    "\r\n",
    "dfAldi= pd.read_csv(\"data_source/All_Data_Aldi.csv\")\r\n",
    "dfASDA= pd.read_csv(\"data_source/All_Data_ASDA.csv\")\r\n",
    "dfMorrisons= pd.read_csv(\"data_source/All_Data_Morrisons.csv\")\r\n",
    "dfSains= pd.read_csv(\"data_source/All_Data_Sains.csv\")\r\n",
    "dfTesco= pd.read_csv(\"data_source/All_Data_Tesco.csv\")\r\n",
    "\r\n",
    "combined_rows = pd.concat([dfAldi,dfASDA,dfMorrisons,dfSains,dfTesco], axis=0, ignore_index=True)\r\n",
    "combined_columns = pd.concat([dfAldi,dfASDA,dfMorrisons,dfSains,dfTesco], axis=1)\r\n",
    "df = pd.DataFrame(combined_rows.values, columns=combined_rows.columns)\r\n",
    "\r\n",
    "print(df.info())\r\n",
    "\r\n"
   ]
  },
  {
   "cell_type": "code",
   "execution_count": 2,
   "metadata": {},
   "outputs": [
    {
     "name": "stdout",
     "output_type": "stream",
     "text": [
      "Total null values in the DataFrame: 0\n"
     ]
    }
   ],
   "source": [
    "df=df.dropna()\r\n",
    "\r\n",
    "total_null_values = df.isnull().sum().sum()\r\n",
    "print(\"Total null values in the DataFrame:\", total_null_values)\r\n",
    "\r\n"
   ]
  },
  {
   "cell_type": "code",
   "execution_count": 3,
   "metadata": {},
   "outputs": [
    {
     "name": "stdout",
     "output_type": "stream",
     "text": [
      "<class 'pandas.core.frame.DataFrame'>\n",
      "Index: 3273014 entries, 0 to 3273205\n",
      "Data columns (total 8 columns):\n",
      " #   Column            Dtype \n",
      "---  ------            ----- \n",
      " 0   supermarket       object\n",
      " 1   prices_(¬£)       int32 \n",
      " 2   prices_unit_(¬£)  int32 \n",
      " 3   unit              object\n",
      " 4   names             object\n",
      " 5   date              object\n",
      " 6   category          object\n",
      " 7   own_brand         object\n",
      "dtypes: int32(2), object(6)\n",
      "memory usage: 199.8+ MB\n",
      "None\n"
     ]
    }
   ],
   "source": [
    "df['date'] = pd.to_datetime(df['date'], format='%Y%m%d')\r\n",
    "df['date'] = df['date'].dt.date\r\n",
    "df['prices_(¬£)'] = df['prices_(¬£)'].astype(int)\r\n",
    "df['prices_unit_(¬£)'] = df['prices_unit_(¬£)'].astype(int)\r\n",
    "df['own_brand'] = df['own_brand'].astype(str)\r\n",
    "print(df.info())\r\n"
   ]
  },
  {
   "cell_type": "code",
   "execution_count": 5,
   "metadata": {},
   "outputs": [],
   "source": [
    "df.to_csv('data_source/cleaned_data3.csv', compression='gzip', index = False)"
   ]
  }
 ],
 "metadata": {
  "interpreter": {
   "hash": "2be5faf79681da6f2a61fdfdd5405d65d042280f7fba6178067603e3a2925119"
  },
  "kernelspec": {
   "display_name": "Python 3.10.5 64-bit",
   "name": "python3"
  },
  "language_info": {
   "codemirror_mode": {
    "name": "ipython",
    "version": 3
   },
   "file_extension": ".py",
   "mimetype": "text/x-python",
   "name": "python",
   "nbconvert_exporter": "python",
   "pygments_lexer": "ipython3",
   "version": "3.10.5"
  },
  "orig_nbformat": 4
 },
 "nbformat": 4,
 "nbformat_minor": 2
}